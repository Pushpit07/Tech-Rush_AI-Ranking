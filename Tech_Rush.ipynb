{
  "nbformat": 4,
  "nbformat_minor": 0,
  "metadata": {
    "colab": {
      "provenance": [],
      "authorship_tag": "ABX9TyNmLWqTu91zRv35TDsSjjem",
      "include_colab_link": true
    },
    "kernelspec": {
      "name": "python3",
      "display_name": "Python 3"
    },
    "language_info": {
      "name": "python"
    }
  },
  "cells": [
    {
      "cell_type": "markdown",
      "metadata": {
        "id": "view-in-github",
        "colab_type": "text"
      },
      "source": [
        "<a href=\"https://colab.research.google.com/github/Pushpit07/Tech-Rush_AI-Ranking/blob/main/Tech_Rush.ipynb\" target=\"_parent\"><img src=\"https://colab.research.google.com/assets/colab-badge.svg\" alt=\"Open In Colab\"/></a>"
      ]
    },
    {
      "cell_type": "markdown",
      "source": [
        "Problem Statement 2:\n",
        "\n",
        "Sears is a pioneer in the retail industry and operates in a multitude of domains, selling millions of products on a daily basis and continuously adding thousands of new products to its product line.\n",
        "In order to effectively evaluate the performance of retail stores, it is essential to have a consistent analysis system in place factoring the local market and competition.\n",
        "\n",
        "Given a list of store location data, build a system that will generate a ranking of the locations based on the following -\n",
        "\n",
        "   -- Distance from nearest Walmart, Costco, Target, and Home Depot stores. Each of these distances will have its own weightage that has to be accounted for in the ranking algorithm.\n",
        "   \n",
        "   -- Population density in and around the location.\n",
        "   \n",
        "   -- Economy around the location\n",
        "\n",
        "The weightage of these parameters needs to be configurable in the system. "
      ],
      "metadata": {
        "id": "RC-jKLNTzA9f"
      }
    },
    {
      "cell_type": "code",
      "execution_count": null,
      "metadata": {
        "id": "lIBcKKH0y5sH"
      },
      "outputs": [],
      "source": []
    }
  ]
}